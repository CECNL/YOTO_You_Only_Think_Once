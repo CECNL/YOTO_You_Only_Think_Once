{
 "cells": [
  {
   "cell_type": "code",
   "execution_count": null,
   "metadata": {},
   "outputs": [
    {
     "name": "stderr",
     "output_type": "stream",
     "text": [
      "/var/folders/6h/jzchtrws35dfyczjt3y5m7k00000gn/T/ipykernel_11403/2156513365.py:61: FutureWarning: \n",
      "\n",
      "Passing `palette` without assigning `hue` is deprecated and will be removed in v0.14.0. Assign the `x` variable to `hue` and set `legend=False` for the same effect.\n",
      "\n",
      "  sns.violinplot(x='TriggerLabel', y='Vividness', data=data, palette='Set3', legend=False)\n"
     ]
    },
    {
     "name": "stdout",
     "output_type": "stream",
     "text": [
      "圖像已保存為 ./violin_result/0325Trigger_VS_Vividness.jpg\n"
     ]
    }
   ],
   "source": [
    "import pandas as pd\n",
    "import seaborn as sns\n",
    "import matplotlib.pyplot as plt\n",
    "from matplotlib import rcParams\n",
    "from scipy.stats import mannwhitneyu\n",
    "from statsmodels.stats.multitest import multipletests\n",
    "from itertools import combinations\n",
    "\n",
    "rcParams['font.family'] = 'Helvetica'\n",
    "\n",
    "csv_file_path = \"Trigger_Vividness_Data.csv\"  # 替換為文件的實際路徑\n",
    "data = pd.read_csv(csv_file_path)\n",
    "\n",
    "data = data.dropna(subset=[\"Trigger\", \"Vividness\"])\n",
    "\n",
    "def trigger_label(trigger):\n",
    "    labels = {\n",
    "        21: \"Male Face\", 22: \"Female Face\", 23: \"Square\",\n",
    "        24: \"Vowel /a/\", 25: \"Vowel /o/\", 26: \"Vowel /i/\",\n",
    "        27: \"Tone C (262 Hz)\", 28: \"Tone D (294 Hz)\", 29: \"Tone E (330 Hz)\",\n",
    "        30: \"Square + Vowel /a/\", 31: \"Square + Vowel /o/\", 32: \"Square + Vowel /i/\",\n",
    "        33: \"Square + Tone C (262 Hz)\", 34: \"Square + Tone D (294 Hz)\", 35: \"Square + Tone E (330 Hz)\",\n",
    "        36: \"Male Face + Vowel /a/\", 37: \"Male Face + Vowel /o/\", 38: \"Male Face + Vowel /i/\",\n",
    "        39: \"Female Face + Vowel /a/\", 40: \"Female Face + Vowel /o/\", 41: \"Female Face + Vowel /i/)\",\n",
    "        42: \"Male Face + Tone C (262 Hz)\", 43: \"Male Face + Tone D (294 Hz)\", 44: \"Male Face + Tone E (330 Hz)\",\n",
    "        45: \"Female Face + Tone C (262 Hz)\", 46: \"Female Face + Tone D (294 Hz)\", 47: \"Female Face + Tone E (330 Hz)\"\n",
    "    }\n",
    "    return labels.get(trigger, None)\n",
    "\n",
    "data['TriggerLabel'] = data['Trigger'].apply(trigger_label)\n",
    "\n",
    "data = data.dropna(subset=[\"TriggerLabel\"])\n",
    "\n",
    "unique_labels = data['TriggerLabel'].unique()\n",
    "p_values = []\n",
    "pairs = []\n",
    "\n",
    "for label1, label2 in combinations(unique_labels, 2):\n",
    "    group1 = data[data['TriggerLabel'] == label1]['Vividness']\n",
    "    group2 = data[data['TriggerLabel'] == label2]['Vividness']\n",
    "    if len(group1) > 0 and len(group2) > 0:\n",
    "        _, p = mannwhitneyu(group1, group2, alternative='two-sided')\n",
    "        p_values.append(p)\n",
    "        pairs.append((label1, label2))\n",
    "\n",
    "p_corrected = multipletests(p_values, alpha=0.05, method='bonferroni')[1]\n",
    "\n",
    "significant_pairs = [(pair, p) for pair, p in zip(pairs, p_corrected) if p < 0.05]\n",
    "\n",
    "plt.figure(figsize=(20, 12))\n",
    "sns.violinplot(x='TriggerLabel', y='Vividness', data=data, palette='Set3', legend=False)\n",
    "\n",
    "plt.xlabel('Stimulus conditions', fontsize=25)\n",
    "plt.ylabel('Vividness', fontsize=25)\n",
    "\n",
    "\n",
    "\n",
    "plt.xticks(fontsize=20,rotation=45, ha='right')\n",
    "plt.ylim(0, 6) \n",
    "plt.yticks([1, 2, 3, 4, 5], fontsize=20) \n",
    "plt.yticks(fontsize=20)\n",
    "plt.tight_layout()\n",
    "plt.gcf().set_size_inches(20, max(8, len(data['TriggerLabel'].unique()) * 0.3)) \n",
    "plt.subplots_adjust(bottom=0.4) \n",
    "plt.subplots_adjust(top=0.9)\n",
    "plt.grid(True, linestyle='--', alpha=0.6)\n",
    "\n",
    "output_file = \"Trigger_VS_Vividness.jpg\"\n",
    "plt.savefig(output_file, format='jpg', dpi=600)  \n",
    "plt.close()\n",
    "\n"
   ]
  }
 ],
 "metadata": {
  "kernelspec": {
   "display_name": "BCI",
   "language": "python",
   "name": "python3"
  },
  "language_info": {
   "codemirror_mode": {
    "name": "ipython",
    "version": 3
   },
   "file_extension": ".py",
   "mimetype": "text/x-python",
   "name": "python",
   "nbconvert_exporter": "python",
   "pygments_lexer": "ipython3",
   "version": "3.10.14"
  }
 },
 "nbformat": 4,
 "nbformat_minor": 2
}
